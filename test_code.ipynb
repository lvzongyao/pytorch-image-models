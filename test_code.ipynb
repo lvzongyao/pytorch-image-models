{
 "cells": [
  {
   "cell_type": "code",
   "execution_count": 1,
   "id": "c1bc98bb",
   "metadata": {},
   "outputs": [],
   "source": [
    "import timm\n",
    "import torch"
   ]
  },
  {
   "cell_type": "code",
   "execution_count": 2,
   "id": "44e905d6",
   "metadata": {},
   "outputs": [
    {
     "data": {
      "text/plain": [
       "torch.Size([1, 1000])"
      ]
     },
     "execution_count": 2,
     "metadata": {},
     "output_type": "execute_result"
    }
   ],
   "source": [
    "model = timm.create_model('resnet34')\n",
    "x = torch.randn(1, 3, 224, 224)\n",
    "model(x).shape"
   ]
  },
  {
   "cell_type": "code",
   "execution_count": 3,
   "id": "cda030b5",
   "metadata": {},
   "outputs": [
    {
     "data": {
      "text/plain": [
       "torch.Size([1, 6])"
      ]
     },
     "execution_count": 3,
     "metadata": {},
     "output_type": "execute_result"
    }
   ],
   "source": [
    "model = timm.create_model('resnet34', num_classes=6)\n",
    "x = torch.randn(1, 3, 224, 224)\n",
    "model(x).shape"
   ]
  },
  {
   "cell_type": "code",
   "execution_count": 4,
   "id": "9fc34185",
   "metadata": {},
   "outputs": [
    {
     "data": {
      "text/plain": [
       "tensor([[[[-0.0331,  0.9989,  0.4713,  ..., -1.3103,  0.0517,  0.7200],\n",
       "          [-0.3968, -1.5575,  0.2759,  ...,  0.3559, -0.9510, -2.4176],\n",
       "          [ 0.5382, -0.4086, -0.5826,  ..., -0.1746,  0.2594, -0.9496],\n",
       "          ...,\n",
       "          [ 0.0549, -2.2582, -0.6010,  ..., -1.7925, -0.9117,  0.9702],\n",
       "          [ 1.7890, -0.9004, -0.4840,  ..., -0.9351,  2.3220, -1.8327],\n",
       "          [ 0.2935,  0.9334,  1.1859,  ...,  0.7626, -0.1543,  1.4617]],\n",
       "\n",
       "         [[-0.1738, -0.4071,  1.9532,  ..., -0.0280, -0.5086, -0.0973],\n",
       "          [-0.9050,  0.5268,  0.5525,  ...,  2.1151, -0.9285,  2.4969],\n",
       "          [-1.5544, -1.7968,  1.6945,  ..., -0.4637,  0.4364,  0.9275],\n",
       "          ...,\n",
       "          [ 1.2581, -0.7113,  1.0502,  ...,  0.5079, -1.3692, -0.4040],\n",
       "          [ 0.5484, -0.4880,  1.8029,  ..., -0.4191,  0.2608,  0.3356],\n",
       "          [ 0.7718,  0.1301,  0.8876,  ..., -2.2039, -0.4175, -0.1978]],\n",
       "\n",
       "         [[ 0.8434, -0.8763,  1.2711,  ..., -0.1430,  0.2964, -0.4996],\n",
       "          [ 0.0214,  0.0746, -0.2513,  ...,  1.2393,  0.4991,  0.5956],\n",
       "          [ 0.3148,  0.8807,  0.1545,  ...,  0.0409, -1.0140,  0.9319],\n",
       "          ...,\n",
       "          [-0.2844,  0.6713, -0.1981,  ..., -1.3793, -0.5943, -0.1217],\n",
       "          [ 0.2786,  1.8654,  0.2266,  ...,  0.2673, -1.2265, -0.9435],\n",
       "          [-0.6521,  0.5533, -0.3011,  ..., -0.3609,  1.1228,  0.0845]]]])"
      ]
     },
     "execution_count": 4,
     "metadata": {},
     "output_type": "execute_result"
    }
   ],
   "source": [
    "x"
   ]
  },
  {
   "cell_type": "code",
   "execution_count": 5,
   "id": "2b92b488",
   "metadata": {},
   "outputs": [
    {
     "data": {
      "text/plain": [
       "(648,\n",
       " ['adv_inception_v3',\n",
       "  'bat_resnext26ts',\n",
       "  'beit_base_patch16_224',\n",
       "  'beit_base_patch16_224_in22k',\n",
       "  'beit_base_patch16_384',\n",
       "  'beit_large_patch16_224',\n",
       "  'beit_large_patch16_224_in22k',\n",
       "  'beit_large_patch16_384'])"
      ]
     },
     "execution_count": 5,
     "metadata": {},
     "output_type": "execute_result"
    }
   ],
   "source": [
    "avail_pretrained_models = timm.list_models(pretrained=True)\n",
    "len(avail_pretrained_models), avail_pretrained_models[:8]"
   ]
  },
  {
   "cell_type": "code",
   "execution_count": null,
   "id": "99b92b32",
   "metadata": {},
   "outputs": [],
   "source": []
  }
 ],
 "metadata": {
  "kernelspec": {
   "display_name": "Python 3",
   "language": "python",
   "name": "python3"
  },
  "language_info": {
   "codemirror_mode": {
    "name": "ipython",
    "version": 3
   },
   "file_extension": ".py",
   "mimetype": "text/x-python",
   "name": "python",
   "nbconvert_exporter": "python",
   "pygments_lexer": "ipython3",
   "version": "3.8.5"
  }
 },
 "nbformat": 4,
 "nbformat_minor": 5
}
